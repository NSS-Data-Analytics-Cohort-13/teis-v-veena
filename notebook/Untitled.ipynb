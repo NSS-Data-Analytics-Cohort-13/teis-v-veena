{
 "cells": [
  {
   "cell_type": "code",
   "execution_count": 3,
   "id": "72a2328c-db95-433d-b8c8-cfaf04d05da2",
   "metadata": {},
   "outputs": [],
   "source": [
    "import pandas as pd\n",
    "import numpy as np\n",
    "import matplotlib.pyplot as plt\n",
    "import seaborn as sns\n",
    "\n",
    "bdi2_df = pd.read_csv('../teis-JesseCrawford89/data/NSS data_BDI2 scores_20200101-20230131_20241106.csv')\n",
    "\n",
    "bdi2_df['testDate'] = pd.to_datetime(bdi2_df['testDate'])\n",
    "\n",
    "bdi3_df = pd.read_excel('../teis-JesseCrawford89/data/NSS data_BDI3 Scores 20230101 20240630_Compiled_20241107.xlsx')\n",
    "\n",
    "bdi3_df['Adaptive-Self Care Date of Testing'] = pd.to_datetime(bdi3_df['Adaptive-Self Care Date of Testing'])\n",
    "\n",
    "eco_df = pd.read_excel('../teis-JesseCrawford89/data/NSS_ECO Data Ind 3 FFY 2023-24 20241211.xlsx',sheet_name='ECO with Exit23-24 ')"
   ]
  },
  {
   "cell_type": "code",
   "execution_count": null,
   "id": "d56cb908-8b5d-4306-9e79-550a4d4a39d0",
   "metadata": {},
   "outputs": [],
   "source": [
    "entry_exit = eco_df[(eco_df['OC1 Data Check']==1)][['CHILD_ID','BDI 3\\nECO_Entry_DATE','BDI 3\\nECO_Exit_DATE','BDI2 Entry Date']]\n",
    "\n",
    "entry_exit.rename(columns={'CHILD_ID':'TEIDS Child ID'}, inplace=True)\n",
    "\n",
    "entry_exit = entry_exit[(entry_exit['BDI 3\\nECO_Exit_DATE'].notnull())&((entry_exit['BDI 3\\nECO_Entry_DATE'].notnull())|(entry_exit['BDI2 Entry Date'].notnull()))]"
   ]
  },
  {
   "cell_type": "code",
   "execution_count": null,
   "id": "6910c70a-4780-4b84-98d0-2b2ef6278f13",
   "metadata": {},
   "outputs": [],
   "source": [
    "bdi3_exit = entry_exit.merge(bdi3_df,how='inner',left_on=['TEIDS Child ID','BDI 3\\nECO_Exit_DATE'],right_on=['TEIDS Child ID','Adaptive-Self Care Date of Testing'])\n",
    "\n",
    "bdi3_entry = entry_exit.merge(bdi3_df,how='inner',left_on=['TEIDS Child ID','BDI 3\\nECO_Entry_DATE'],right_on=['TEIDS Child ID','Adaptive-Self Care Date of Testing'])\n",
    "\n",
    "bdi2_entry_subdomains = entry_exit.merge(bdi2_df,how='inner',left_on=['TEIDS Child ID','BDI2 Entry Date'],right_on=['Student TEIDS ID','testDate'])\n",
    "\n",
    "bdi2_entry_subdomains = bdi2_entry_subdomains[~bdi2_entry_subdomains['testDate'].isnull()]\n",
    "\n",
    "bdi2_entry = bdi2_df[bdi2_df['studentAssessmentID'].isin(bdi2_entry_subdomains['studentAssessmentID'])]\n",
    "\n",
    "bdi2_entry['Student TEIDS ID'] = bdi2_entry['Student TEIDS ID'].astype('int64')\n",
    "\n",
    "bdi3_entry = bdi3_entry[~bdi3_entry['Adaptive-Self Care Date of Testing'].isnull()]\n",
    "\n",
    "bdi2_entry = bdi2_entry[['Student TEIDS ID','domainText','rawScore','DQScore','ZScore']]\n",
    "\n",
    "bdi3_entry = bdi3_entry[['TEIDS Child ID','Adaptive Developmental Quotient','Social-Emotional Developmental Quotient','Communication Developmental Quotient','Motor Developmental Quotient','Cognitive Developmental Quotient','Adaptive-Self Care RS','Adaptive-Self Care Z-Score','Adaptive-Personal Responsibility RS','Adaptive-Personal Responsibility Z-Score','Social Emotional-Adult Interaction RS','Social Emotional-Adult Interaction Z-Score','Social Emotional-Peer Interaction RS','Social Emotional-Peer Interaction Z-Score','Social Emotional-Self Concept / Social Role RS','Social Emotional-Self Concept / Social Role Z-Score','Communication-Receptive Communication RS','Communication-Receptive Communication Z-Score','Communication-Expressive Communication RS','Communication-Expressive Communication Z-Score','Motor-Gross Motor RS','Motor-Gross Motor Z-Score','Motor-Fine Motor RS','Motor-Fine Motor Z-Score','Motor-Perceptual Motor RS','Motor-Perceptual Motor Z-Score','Cognitive-Attention and Memory RS','Cognitive-Attention and Memory Z-Score','Cognitive-Reasoning / Academic Skills RS','Cognitive-Reasoning / Academic Skills Z-Score','Cognitive-Perception and Concepts RS','Cognitive-Perception and Concepts Z-Score']]\n",
    "\n",
    "bdi3_exit = bdi3_exit[['TEIDS Child ID','Adaptive Developmental Quotient','Social-Emotional Developmental Quotient','Communication Developmental Quotient','Motor Developmental Quotient','Cognitive Developmental Quotient','Adaptive-Self Care RS','Adaptive-Self Care Z-Score','Adaptive-Personal Responsibility RS','Adaptive-Personal Responsibility Z-Score','Social Emotional-Adult Interaction RS','Social Emotional-Adult Interaction Z-Score','Social Emotional-Peer Interaction RS','Social Emotional-Peer Interaction Z-Score','Social Emotional-Self Concept / Social Role RS','Social Emotional-Self Concept / Social Role Z-Score','Communication-Receptive Communication RS','Communication-Receptive Communication Z-Score','Communication-Expressive Communication RS','Communication-Expressive Communication Z-Score','Motor-Gross Motor RS','Motor-Gross Motor Z-Score','Motor-Fine Motor RS','Motor-Fine Motor Z-Score','Motor-Perceptual Motor RS','Motor-Perceptual Motor Z-Score','Cognitive-Attention and Memory RS','Cognitive-Attention and Memory Z-Score','Cognitive-Reasoning / Academic Skills RS','Cognitive-Reasoning / Academic Skills Z-Score','Cognitive-Perception and Concepts RS','Cognitive-Perception and Concepts Z-Score']]"
   ]
  },
  {
   "cell_type": "code",
   "execution_count": null,
   "id": "2a07d5d8-87ea-4d10-90d0-3609a5933c44",
   "metadata": {},
   "outputs": [],
   "source": [
    "# Dibran wrote this, don't praise me. -- Ryan\n",
    "def transform_data(file)-> pd.DataFrame:\n",
    "    df = file #This was originally where you would read in the csv for bdi-2, I changed it to run the already filtered dataframe -- Ryan\n",
    "        #drop null student ID if you have any\n",
    "    df = df[~df['Student TEIDS ID'].isnull()]\n",
    "    # there are ids that have mulitple duplicate IDs example:526857\n",
    "    #the following code will help deal with duplciate domain - allowing us to create more that 1 row if it has dup domain text\n",
    "    df = df.sort_values(['Student TEIDS ID','domainText']).reset_index(drop=True)\n",
    "    #sequential number to each row within a group\n",
    "    df['row_number'] = df.groupby(['Student TEIDS ID', 'domainText']).cumcount()\n",
    "    #pivot dataframe\n",
    "    df_pivot = df.pivot_table(index=['Student TEIDS ID', 'row_number']\n",
    "              , columns='domainText'\n",
    "              , values=['rawScore','DQScore','ZScore']\n",
    "              , aggfunc='first')\n",
    "    #flatten multi-index columns\n",
    "    df_pivot.columns = [f\"{col[1]}-{col[0]}\" for col in df_pivot.columns]\n",
    "    #reset index\n",
    "    df_pivot = df_pivot.reset_index()\n",
    "    #drop row number\n",
    "    df_pivot = df_pivot.drop(columns=['row_number'])\n",
    "    return df_pivot"
   ]
  },
  {
   "cell_type": "code",
   "execution_count": null,
   "id": "d1abdde6-2e8c-4a94-aead-86536e67f00f",
   "metadata": {},
   "outputs": [],
   "source": [
    "bdi2_df_test = transform_data(bdi2_entry)\n",
    "bdi2_df_test"
   ]
  },
  {
   "cell_type": "code",
   "execution_count": null,
   "id": "3d1dedc2-e746-44b3-b092-aec037006899",
   "metadata": {},
   "outputs": [],
   "source": [
    "test_ids = bdi3_exit[(bdi3_exit['TEIDS Child ID'].isin(bdi3_entry['TEIDS Child ID']))|(bdi3_exit['TEIDS Child ID'].isin(bdi2_entry['Student TEIDS ID']))]['TEIDS Child ID']\n",
    "\n",
    "test_ids\n",
    "\n",
    "bdi2_flag = pd.DataFrame({'TEIDS Child ID':bdi2_entry['Student TEIDS ID'].unique()})\n",
    "bdi2_flag['bdi_flag'] = 2\n",
    "\n",
    "bdi3_flag = pd.DataFrame(bdi3_entry['TEIDS Child ID'])\n",
    "bdi3_flag['bdi_flag'] = 3\n",
    "\n",
    "entry_flag = bdi2_flag.merge(bdi3_flag,how='outer',left_on=['TEIDS Child ID','bdi_flag'],right_on=['TEIDS Child ID','bdi_flag'])"
   ]
  },
  {
   "cell_type": "code",
   "execution_count": null,
   "id": "ecbf0aed-3778-4ba9-b17c-fa8f65432b2e",
   "metadata": {},
   "outputs": [],
   "source": [
    "exit_flagged = entry_flag.merge(bdi3_exit,how='inner',on='TEIDS Child ID')\n",
    "\n",
    "bdi2_entry_exit = exit_flagged[exit_flagged['bdi_flag']==2]\n",
    "\n",
    "bdi3_entry_exit = exit_flagged[exit_flagged['bdi_flag']==3]"
   ]
  },
  {
   "cell_type": "code",
   "execution_count": null,
   "id": "e23edb09-ce95-41d5-9d4b-0712a0e3ca61",
   "metadata": {},
   "outputs": [],
   "source": [
    "bdi3_merge = bdi3_entry.merge(bdi3_entry_exit,how='inner',on='TEIDS Child ID',suffixes=(\"_entry\",\"_exit\"))\n",
    "\n",
    "bdi3_oc1_e = bdi3_merge[(bdi3_merge['Social-Emotional Developmental Quotient_entry']>=78)\n",
    "    &(bdi3_merge['Social Emotional-Adult Interaction Z-Score_entry']>-1.5)\n",
    "    &(bdi3_merge['Social Emotional-Self Concept / Social Role Z-Score_entry']>-1.5)\n",
    "    &(bdi3_merge['Social Emotional-Peer Interaction Z-Score_entry']>-1.5)]\n",
    "\n",
    "bdi3_oc1 = ['TEIDS Child ID','Social-Emotional Developmental Quotient_entry','Social-Emotional Developmental Quotient_exit','Social Emotional-Adult Interaction Z-Score_entry','Social Emotional-Adult Interaction Z-Score_exit','Social Emotional-Self Concept / Social Role Z-Score_entry','Social Emotional-Self Concept / Social Role Z-Score_exit','Social Emotional-Peer Interaction Z-Score_entry','Social Emotional-Peer Interaction Z-Score_exit','Social Emotional-Adult Interaction RS_entry','Social Emotional-Adult Interaction RS_exit','Social Emotional-Peer Interaction RS_entry','Social Emotional-Peer Interaction RS_exit','Social Emotional-Self Concept / Social Role RS_entry','Social Emotional-Self Concept / Social Role RS_exit']\n",
    "\n",
    "bdi3_oc1_d = bdi3_merge[((bdi3_merge['Social-Emotional Developmental Quotient_entry']<78)&(bdi3_merge['Social-Emotional Developmental Quotient_exit']>=78))\n",
    "    |(((bdi3_merge['Social-Emotional Developmental Quotient_entry']>=78)&(bdi3_merge['Social-Emotional Developmental Quotient_exit']>=78))\n",
    "      &((bdi3_merge['Social Emotional-Adult Interaction Z-Score_entry']<=-1.5)\n",
    "        |(bdi3_merge['Social Emotional-Adult Interaction Z-Score_exit']<=-1.5)\n",
    "        |(bdi3_merge['Social Emotional-Self Concept / Social Role Z-Score_entry']<=-1.5)\n",
    "        |(bdi3_merge['Social Emotional-Self Concept / Social Role Z-Score_exit']<=-1.5)\n",
    "        |(bdi3_merge['Social Emotional-Peer Interaction Z-Score_entry']<=-1.5)\n",
    "        |(bdi3_merge['Social Emotional-Peer Interaction Z-Score_exit']<=-1.5)))]\n",
    "\n",
    "bdi3_oc1_c = bdi3_merge[((bdi3_merge['Social-Emotional Developmental Quotient_entry']<bdi3_merge['Social-Emotional Developmental Quotient_exit'])\n",
    "                         &(bdi3_merge['Social-Emotional Developmental Quotient_exit']<78))\n",
    "    &((bdi3_merge['Social Emotional-Adult Interaction RS_exit']>bdi3_merge['Social Emotional-Adult Interaction RS_entry'])\n",
    "      |(bdi3_merge['Social Emotional-Peer Interaction RS_exit']>bdi3_merge['Social Emotional-Peer Interaction RS_entry'])\n",
    "      |(bdi3_merge['Social Emotional-Self Concept / Social Role RS_exit']>bdi3_merge['Social Emotional-Self Concept / Social Role RS_entry']))]\n",
    "\n",
    "bdi3_oc1_b = bdi3_merge[((bdi3_merge['Social-Emotional Developmental Quotient_entry']>=bdi3_merge['Social-Emotional Developmental Quotient_exit'])\n",
    "                         &(bdi3_merge['Social-Emotional Developmental Quotient_exit']<78))\n",
    "    &((bdi3_merge['Social Emotional-Adult Interaction RS_exit']>bdi3_merge['Social Emotional-Adult Interaction RS_entry'])\n",
    "      |(bdi3_merge['Social Emotional-Peer Interaction RS_exit']>bdi3_merge['Social Emotional-Peer Interaction RS_entry'])\n",
    "      |(bdi3_merge['Social Emotional-Self Concept / Social Role RS_exit']>bdi3_merge['Social Emotional-Self Concept / Social Role RS_entry']))]\n",
    "\n",
    "bdi3_oc1_a = bdi3_merge[(bdi3_merge['Social-Emotional Developmental Quotient_exit']<78)\n",
    "    &(bdi3_merge['Social Emotional-Adult Interaction RS_exit']<=bdi3_merge['Social Emotional-Adult Interaction RS_entry'])\n",
    "    &(bdi3_merge['Social Emotional-Peer Interaction RS_exit']<=bdi3_merge['Social Emotional-Peer Interaction RS_entry'])\n",
    "    &(bdi3_merge['Social Emotional-Self Concept / Social Role RS_exit']<=bdi3_merge['Social Emotional-Self Concept / Social Role RS_entry'])]"
   ]
  },
  {
   "cell_type": "code",
   "execution_count": null,
   "id": "eef1e011-6cbf-4cb5-ad86-7510315cd5ca",
   "metadata": {},
   "outputs": [],
   "source": [
    "aid3 = bdi3_oc1_a['TEIDS Child ID']"
   ]
  },
  {
   "cell_type": "code",
   "execution_count": null,
   "id": "dee1bbe7-0742-46f3-ba9a-e4e2d350491d",
   "metadata": {},
   "outputs": [],
   "source": [
    "time_in_program = eco_df[['CHILD_ID','Days btw Initial and Exit','Days btw I-IFSP to Exit ECO','<Calc> Entrance Age (months)']]\n",
    "time_in_program = time_in_program[time_in_program['Days btw Initial and Exit'] > 181]\n",
    "time_in_program.loc[:, 'Years btw Initial and Exit'] = time_in_program['Days btw Initial and Exit'] / 365.2422\n",
    "time_in_program.loc[:, 'Years btw I-IFSP to Exit ECO'] = time_in_program['Days btw I-IFSP to Exit ECO'] / 365.2422\n",
    "time_in_program.loc[:, 'Age upon Exit (years)'] = (\n",
    "    (time_in_program['<Calc> Entrance Age (months)']/12) + time_in_program['Years btw Initial and Exit']\n",
    ")\n",
    "\n",
    "exit_age = time_in_program[['CHILD_ID','Age upon Exit (years)']]\n",
    "\n",
    "exit_age_a = exit_age[exit_age['CHILD_ID'].isin(aid3)]\n",
    "\n",
    "exit_age_sorted = exit_age_a.sort_values(by='Age upon Exit (years)', ascending=False)\n",
    "\n",
    "exit_age_sorted"
   ]
  },
  {
   "cell_type": "code",
   "execution_count": null,
   "id": "a322d9eb-da8e-4890-a6f8-52a35e94c6df",
   "metadata": {},
   "outputs": [],
   "source": [
    "bdi3_eco_a = eco_df[eco_df['CHILD_ID'].isin(aid3)]\n",
    "\n",
    "bdi3_eco_a['length_between_assessment'] = bdi3_eco_a['ECO_Exit_DATE'] - bdi3_eco_a['ECO_Entry_DATE']\n",
    "\n",
    "bdi3_eco_diff = bdi3_eco_a[['CHILD_ID','length_between_assessment']]\n",
    "\n",
    "bdi3_eco_diff = bdi3_eco_diff[bdi3_eco_diff['length_between_assessment'].dt.days>181]"
   ]
  },
  {
   "cell_type": "code",
   "execution_count": null,
   "id": "6a365567-d763-40f2-99b7-97344a2a40e8",
   "metadata": {},
   "outputs": [],
   "source": [
    "# BDI3 - Category A - Time between between entry and exit assessments\n",
    "bdi3_eco_diff = bdi3_eco_diff.sort_values(by='length_between_assessment', ascending=False)\n",
    "bdi3_eco_diff"
   ]
  },
  {
   "cell_type": "code",
   "execution_count": null,
   "id": "40d6580b-4cb4-4ed5-9d91-3ce916c2e62a",
   "metadata": {},
   "outputs": [],
   "source": [
    "bdi3_a_tip = time_in_program[time_in_program['CHILD_ID'].isin(aid3)]\n",
    "bdi3_a_tip = bdi3_a_tip[['CHILD_ID','Days btw Initial and Exit']]\n",
    "bdi3_a_tip = bdi3_a_tip.sort_values(by='Days btw Initial and Exit', ascending=False)"
   ]
  },
  {
   "cell_type": "code",
   "execution_count": null,
   "id": "ac5227dc-9a7e-4e7c-9f1a-cd1469742fe7",
   "metadata": {},
   "outputs": [],
   "source": [
    "# BDI3 - Category A - Time between entry and exit\n",
    "bdi3_a_tip"
   ]
  },
  {
   "cell_type": "code",
   "execution_count": null,
   "id": "1da54042-e511-4ed2-bd54-5cde71ff278c",
   "metadata": {},
   "outputs": [],
   "source": []
  },
  {
   "cell_type": "code",
   "execution_count": null,
   "id": "0e6fd4ef-75c6-459a-870d-49d5c29e4ae0",
   "metadata": {},
   "outputs": [],
   "source": []
  },
  {
   "cell_type": "code",
   "execution_count": null,
   "id": "0c50ae8f-47a0-4272-bf33-8b22a248e7d9",
   "metadata": {},
   "outputs": [],
   "source": []
  }
 ],
 "metadata": {
  "kernelspec": {
   "display_name": "Python 3 (ipykernel)",
   "language": "python",
   "name": "python3"
  },
  "language_info": {
   "codemirror_mode": {
    "name": "ipython",
    "version": 3
   },
   "file_extension": ".py",
   "mimetype": "text/x-python",
   "name": "python",
   "nbconvert_exporter": "python",
   "pygments_lexer": "ipython3",
   "version": "3.12.7"
  }
 },
 "nbformat": 4,
 "nbformat_minor": 5
}
